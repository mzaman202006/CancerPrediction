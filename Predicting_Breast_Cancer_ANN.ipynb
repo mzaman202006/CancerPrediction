{
  "nbformat": 4,
  "nbformat_minor": 0,
  "metadata": {
    "colab": {
      "name": " Predicting Breast Cancer_ANN.ipynb",
      "provenance": [],
      "authorship_tag": "ABX9TyMXmYTM3eVxmu52d6wJdLXs",
      "include_colab_link": true
    },
    "kernelspec": {
      "name": "python3",
      "display_name": "Python 3"
    },
    "language_info": {
      "name": "python"
    }
  },
  "cells": [
    {
      "cell_type": "markdown",
      "metadata": {
        "id": "view-in-github",
        "colab_type": "text"
      },
      "source": [
        "<a href=\"https://colab.research.google.com/github/mzaman202006/CancerPrediction/blob/main/Predicting_Breast_Cancer_ANN.ipynb\" target=\"_parent\"><img src=\"https://colab.research.google.com/assets/colab-badge.svg\" alt=\"Open In Colab\"/></a>"
      ]
    },
    {
      "cell_type": "code",
      "execution_count": 8,
      "metadata": {
        "colab": {
          "base_uri": "https://localhost:8080/"
        },
        "id": "yGYMK6Xj0BS4",
        "outputId": "0cbcda7b-010a-4ffc-eb26-4b6f31398a07"
      },
      "outputs": [
        {
          "output_type": "execute_result",
          "data": {
            "text/plain": [
              "Index(['id', 'diagnosis', 'radius_mean', 'texture_mean', 'smoothness_mean',\n",
              "       'compactness_mean', 'concavity_mean', 'concave points_mean',\n",
              "       'symmetry_mean', 'fractal_dimension_mean', 'radius_se', 'texture_se',\n",
              "       'smoothness_se', 'compactness_se', 'concavity_se', 'concave points_se',\n",
              "       'symmetry_se', 'fractal_dimension_se'],\n",
              "      dtype='object')"
            ]
          },
          "metadata": {},
          "execution_count": 8
        }
      ],
      "source": [
        "\n",
        "import pandas as pd\n",
        "import numpy as np\n",
        "import matplotlib.pyplot as plt\n",
        "import seaborn as sns\n",
        "from sklearn.metrics import confusion_matrix, classification_report, precision_score,recall_score,f1_score\n",
        "\n",
        "df = pd.read_csv('data.csv')\n",
        "del df['Unnamed: 32']\n",
        "\n",
        "cols = ['radius_worst', \n",
        "        'texture_worst', \n",
        "        'perimeter_worst', \n",
        "        'area_worst', \n",
        "        'smoothness_worst', \n",
        "        'compactness_worst', \n",
        "        'concavity_worst',\n",
        "        'concave points_worst', \n",
        "        'symmetry_worst', \n",
        "        'fractal_dimension_worst']\n",
        "df = df.drop(cols, axis=1)\n",
        "\n",
        "\n",
        "cols = ['perimeter_mean',\n",
        "        'perimeter_se', \n",
        "        'area_mean', \n",
        "        'area_se']\n",
        "df = df.drop(cols, axis=1)\n",
        "df.columns\n",
        "\n"
      ]
    },
    {
      "cell_type": "code",
      "source": [
        "\n",
        "X = df.iloc[:, 2:].values\n",
        "y = df.iloc[:, 1].values\n",
        "from sklearn.preprocessing import LabelEncoder\n",
        "labelencoder_X_1 = LabelEncoder()\n",
        "y = labelencoder_X_1.fit_transform(y)\n",
        "\n",
        "\n",
        "from sklearn.model_selection import train_test_split\n",
        "X_train, X_test, y_train, y_test = train_test_split(X, y, test_size = 0.1, random_state = 0)\n",
        "\n",
        "#Feature Scaling\n",
        "from sklearn.preprocessing import StandardScaler\n",
        "sc = StandardScaler()\n",
        "X_train = sc.fit_transform(X_train)\n",
        "X_test = sc.transform(X_test)"
      ],
      "metadata": {
        "id": "C_-fzQ2-7pb7"
      },
      "execution_count": 9,
      "outputs": []
    },
    {
      "cell_type": "code",
      "source": [
        "import keras\n",
        "from keras.models import Sequential\n",
        "from keras.layers import Dense, Dropout\n",
        "md = Sequential()"
      ],
      "metadata": {
        "id": "3ZkypnuG4KQA"
      },
      "execution_count": 10,
      "outputs": []
    },
    {
      "cell_type": "code",
      "source": [
        "\n",
        "md.add(Dense(units=8, kernel_initializer='normal', activation='relu', input_dim=16))\n",
        "\n",
        "md.add(Dropout(rate=0.1))\n",
        "\n",
        "\n",
        "md.add(Dense(units=8, kernel_initializer='normal', activation='relu'))\n",
        "\n",
        "md.add(Dropout(rate=0.1))\n",
        "md.compile(optimizer='adam', loss='binary_crossentropy', metrics=['accuracy'])\n",
        "\n",
        "md.add(Dense(units=1, kernel_initializer='normal', activation='sigmoid'))\n",
        "\n",
        "md.fit(X_train, y_train, batch_size=100, epochs=150)"
      ],
      "metadata": {
        "colab": {
          "base_uri": "https://localhost:8080/"
        },
        "id": "g_A4F6TP4Zsx",
        "outputId": "3fad82ff-0dd2-4cc0-d00c-d1ee40419b8f"
      },
      "execution_count": 11,
      "outputs": [
        {
          "output_type": "stream",
          "name": "stdout",
          "text": [
            "Epoch 1/150\n",
            "6/6 [==============================] - 1s 3ms/step - loss: 0.6930 - accuracy: 0.5469\n",
            "Epoch 2/150\n",
            "6/6 [==============================] - 0s 3ms/step - loss: 0.6918 - accuracy: 0.6367\n",
            "Epoch 3/150\n",
            "6/6 [==============================] - 0s 3ms/step - loss: 0.6905 - accuracy: 0.6328\n",
            "Epoch 4/150\n",
            "6/6 [==============================] - 0s 3ms/step - loss: 0.6892 - accuracy: 0.6406\n",
            "Epoch 5/150\n",
            "6/6 [==============================] - 0s 3ms/step - loss: 0.6874 - accuracy: 0.6543\n",
            "Epoch 6/150\n",
            "6/6 [==============================] - 0s 3ms/step - loss: 0.6854 - accuracy: 0.6504\n",
            "Epoch 7/150\n",
            "6/6 [==============================] - 0s 3ms/step - loss: 0.6827 - accuracy: 0.6660\n",
            "Epoch 8/150\n",
            "6/6 [==============================] - 0s 4ms/step - loss: 0.6789 - accuracy: 0.6973\n",
            "Epoch 9/150\n",
            "6/6 [==============================] - 0s 3ms/step - loss: 0.6740 - accuracy: 0.7402\n",
            "Epoch 10/150\n",
            "6/6 [==============================] - 0s 4ms/step - loss: 0.6673 - accuracy: 0.7695\n",
            "Epoch 11/150\n",
            "6/6 [==============================] - 0s 4ms/step - loss: 0.6592 - accuracy: 0.7949\n",
            "Epoch 12/150\n",
            "6/6 [==============================] - 0s 3ms/step - loss: 0.6504 - accuracy: 0.8086\n",
            "Epoch 13/150\n",
            "6/6 [==============================] - 0s 6ms/step - loss: 0.6379 - accuracy: 0.8359\n",
            "Epoch 14/150\n",
            "6/6 [==============================] - 0s 5ms/step - loss: 0.6239 - accuracy: 0.8555\n",
            "Epoch 15/150\n",
            "6/6 [==============================] - 0s 3ms/step - loss: 0.6046 - accuracy: 0.8730\n",
            "Epoch 16/150\n",
            "6/6 [==============================] - 0s 3ms/step - loss: 0.5886 - accuracy: 0.8906\n",
            "Epoch 17/150\n",
            "6/6 [==============================] - 0s 3ms/step - loss: 0.5643 - accuracy: 0.8906\n",
            "Epoch 18/150\n",
            "6/6 [==============================] - 0s 3ms/step - loss: 0.5418 - accuracy: 0.9082\n",
            "Epoch 19/150\n",
            "6/6 [==============================] - 0s 4ms/step - loss: 0.5175 - accuracy: 0.9102\n",
            "Epoch 20/150\n",
            "6/6 [==============================] - 0s 4ms/step - loss: 0.4908 - accuracy: 0.9180\n",
            "Epoch 21/150\n",
            "6/6 [==============================] - 0s 4ms/step - loss: 0.4641 - accuracy: 0.9121\n",
            "Epoch 22/150\n",
            "6/6 [==============================] - 0s 3ms/step - loss: 0.4425 - accuracy: 0.9219\n",
            "Epoch 23/150\n",
            "6/6 [==============================] - 0s 4ms/step - loss: 0.4155 - accuracy: 0.9121\n",
            "Epoch 24/150\n",
            "6/6 [==============================] - 0s 3ms/step - loss: 0.3924 - accuracy: 0.9219\n",
            "Epoch 25/150\n",
            "6/6 [==============================] - 0s 4ms/step - loss: 0.3687 - accuracy: 0.9277\n",
            "Epoch 26/150\n",
            "6/6 [==============================] - 0s 3ms/step - loss: 0.3548 - accuracy: 0.9199\n",
            "Epoch 27/150\n",
            "6/6 [==============================] - 0s 4ms/step - loss: 0.3370 - accuracy: 0.9277\n",
            "Epoch 28/150\n",
            "6/6 [==============================] - 0s 3ms/step - loss: 0.3125 - accuracy: 0.9375\n",
            "Epoch 29/150\n",
            "6/6 [==============================] - 0s 3ms/step - loss: 0.3109 - accuracy: 0.9258\n",
            "Epoch 30/150\n",
            "6/6 [==============================] - 0s 3ms/step - loss: 0.2891 - accuracy: 0.9395\n",
            "Epoch 31/150\n",
            "6/6 [==============================] - 0s 3ms/step - loss: 0.2823 - accuracy: 0.9336\n",
            "Epoch 32/150\n",
            "6/6 [==============================] - 0s 3ms/step - loss: 0.2611 - accuracy: 0.9316\n",
            "Epoch 33/150\n",
            "6/6 [==============================] - 0s 3ms/step - loss: 0.2533 - accuracy: 0.9375\n",
            "Epoch 34/150\n",
            "6/6 [==============================] - 0s 3ms/step - loss: 0.2462 - accuracy: 0.9355\n",
            "Epoch 35/150\n",
            "6/6 [==============================] - 0s 3ms/step - loss: 0.2353 - accuracy: 0.9336\n",
            "Epoch 36/150\n",
            "6/6 [==============================] - 0s 3ms/step - loss: 0.2159 - accuracy: 0.9414\n",
            "Epoch 37/150\n",
            "6/6 [==============================] - 0s 3ms/step - loss: 0.2107 - accuracy: 0.9414\n",
            "Epoch 38/150\n",
            "6/6 [==============================] - 0s 3ms/step - loss: 0.2106 - accuracy: 0.9434\n",
            "Epoch 39/150\n",
            "6/6 [==============================] - 0s 3ms/step - loss: 0.2046 - accuracy: 0.9414\n",
            "Epoch 40/150\n",
            "6/6 [==============================] - 0s 3ms/step - loss: 0.1884 - accuracy: 0.9492\n",
            "Epoch 41/150\n",
            "6/6 [==============================] - 0s 4ms/step - loss: 0.1984 - accuracy: 0.9375\n",
            "Epoch 42/150\n",
            "6/6 [==============================] - 0s 4ms/step - loss: 0.1972 - accuracy: 0.9414\n",
            "Epoch 43/150\n",
            "6/6 [==============================] - 0s 3ms/step - loss: 0.1860 - accuracy: 0.9453\n",
            "Epoch 44/150\n",
            "6/6 [==============================] - 0s 4ms/step - loss: 0.1808 - accuracy: 0.9375\n",
            "Epoch 45/150\n",
            "6/6 [==============================] - 0s 4ms/step - loss: 0.1868 - accuracy: 0.9375\n",
            "Epoch 46/150\n",
            "6/6 [==============================] - 0s 3ms/step - loss: 0.1736 - accuracy: 0.9453\n",
            "Epoch 47/150\n",
            "6/6 [==============================] - 0s 4ms/step - loss: 0.1749 - accuracy: 0.9414\n",
            "Epoch 48/150\n",
            "6/6 [==============================] - 0s 4ms/step - loss: 0.1696 - accuracy: 0.9492\n",
            "Epoch 49/150\n",
            "6/6 [==============================] - 0s 4ms/step - loss: 0.1625 - accuracy: 0.9492\n",
            "Epoch 50/150\n",
            "6/6 [==============================] - 0s 4ms/step - loss: 0.1674 - accuracy: 0.9453\n",
            "Epoch 51/150\n",
            "6/6 [==============================] - 0s 4ms/step - loss: 0.1567 - accuracy: 0.9434\n",
            "Epoch 52/150\n",
            "6/6 [==============================] - 0s 4ms/step - loss: 0.1567 - accuracy: 0.9473\n",
            "Epoch 53/150\n",
            "6/6 [==============================] - 0s 3ms/step - loss: 0.1679 - accuracy: 0.9336\n",
            "Epoch 54/150\n",
            "6/6 [==============================] - 0s 4ms/step - loss: 0.1547 - accuracy: 0.9570\n",
            "Epoch 55/150\n",
            "6/6 [==============================] - 0s 5ms/step - loss: 0.1603 - accuracy: 0.9473\n",
            "Epoch 56/150\n",
            "6/6 [==============================] - 0s 4ms/step - loss: 0.1575 - accuracy: 0.9355\n",
            "Epoch 57/150\n",
            "6/6 [==============================] - 0s 4ms/step - loss: 0.1497 - accuracy: 0.9473\n",
            "Epoch 58/150\n",
            "6/6 [==============================] - 0s 5ms/step - loss: 0.1449 - accuracy: 0.9570\n",
            "Epoch 59/150\n",
            "6/6 [==============================] - 0s 4ms/step - loss: 0.1476 - accuracy: 0.9453\n",
            "Epoch 60/150\n",
            "6/6 [==============================] - 0s 4ms/step - loss: 0.1456 - accuracy: 0.9434\n",
            "Epoch 61/150\n",
            "6/6 [==============================] - 0s 3ms/step - loss: 0.1418 - accuracy: 0.9512\n",
            "Epoch 62/150\n",
            "6/6 [==============================] - 0s 4ms/step - loss: 0.1416 - accuracy: 0.9512\n",
            "Epoch 63/150\n",
            "6/6 [==============================] - 0s 5ms/step - loss: 0.1469 - accuracy: 0.9434\n",
            "Epoch 64/150\n",
            "6/6 [==============================] - 0s 4ms/step - loss: 0.1372 - accuracy: 0.9531\n",
            "Epoch 65/150\n",
            "6/6 [==============================] - 0s 4ms/step - loss: 0.1343 - accuracy: 0.9492\n",
            "Epoch 66/150\n",
            "6/6 [==============================] - 0s 3ms/step - loss: 0.1386 - accuracy: 0.9492\n",
            "Epoch 67/150\n",
            "6/6 [==============================] - 0s 3ms/step - loss: 0.1286 - accuracy: 0.9590\n",
            "Epoch 68/150\n",
            "6/6 [==============================] - 0s 4ms/step - loss: 0.1291 - accuracy: 0.9570\n",
            "Epoch 69/150\n",
            "6/6 [==============================] - 0s 3ms/step - loss: 0.1424 - accuracy: 0.9453\n",
            "Epoch 70/150\n",
            "6/6 [==============================] - 0s 3ms/step - loss: 0.1311 - accuracy: 0.9473\n",
            "Epoch 71/150\n",
            "6/6 [==============================] - 0s 4ms/step - loss: 0.1281 - accuracy: 0.9551\n",
            "Epoch 72/150\n",
            "6/6 [==============================] - 0s 3ms/step - loss: 0.1270 - accuracy: 0.9570\n",
            "Epoch 73/150\n",
            "6/6 [==============================] - 0s 3ms/step - loss: 0.1372 - accuracy: 0.9551\n",
            "Epoch 74/150\n",
            "6/6 [==============================] - 0s 3ms/step - loss: 0.1272 - accuracy: 0.9590\n",
            "Epoch 75/150\n",
            "6/6 [==============================] - 0s 3ms/step - loss: 0.1275 - accuracy: 0.9492\n",
            "Epoch 76/150\n",
            "6/6 [==============================] - 0s 3ms/step - loss: 0.1172 - accuracy: 0.9609\n",
            "Epoch 77/150\n",
            "6/6 [==============================] - 0s 4ms/step - loss: 0.1343 - accuracy: 0.9492\n",
            "Epoch 78/150\n",
            "6/6 [==============================] - 0s 3ms/step - loss: 0.1353 - accuracy: 0.9434\n",
            "Epoch 79/150\n",
            "6/6 [==============================] - 0s 4ms/step - loss: 0.1272 - accuracy: 0.9531\n",
            "Epoch 80/150\n",
            "6/6 [==============================] - 0s 3ms/step - loss: 0.1282 - accuracy: 0.9570\n",
            "Epoch 81/150\n",
            "6/6 [==============================] - 0s 4ms/step - loss: 0.1215 - accuracy: 0.9590\n",
            "Epoch 82/150\n",
            "6/6 [==============================] - 0s 3ms/step - loss: 0.1285 - accuracy: 0.9512\n",
            "Epoch 83/150\n",
            "6/6 [==============================] - 0s 3ms/step - loss: 0.1254 - accuracy: 0.9551\n",
            "Epoch 84/150\n",
            "6/6 [==============================] - 0s 3ms/step - loss: 0.1175 - accuracy: 0.9629\n",
            "Epoch 85/150\n",
            "6/6 [==============================] - 0s 3ms/step - loss: 0.1169 - accuracy: 0.9629\n",
            "Epoch 86/150\n",
            "6/6 [==============================] - 0s 3ms/step - loss: 0.1276 - accuracy: 0.9551\n",
            "Epoch 87/150\n",
            "6/6 [==============================] - 0s 3ms/step - loss: 0.1258 - accuracy: 0.9590\n",
            "Epoch 88/150\n",
            "6/6 [==============================] - 0s 3ms/step - loss: 0.1126 - accuracy: 0.9609\n",
            "Epoch 89/150\n",
            "6/6 [==============================] - 0s 3ms/step - loss: 0.1258 - accuracy: 0.9570\n",
            "Epoch 90/150\n",
            "6/6 [==============================] - 0s 4ms/step - loss: 0.1285 - accuracy: 0.9492\n",
            "Epoch 91/150\n",
            "6/6 [==============================] - 0s 5ms/step - loss: 0.1159 - accuracy: 0.9609\n",
            "Epoch 92/150\n",
            "6/6 [==============================] - 0s 3ms/step - loss: 0.1238 - accuracy: 0.9551\n",
            "Epoch 93/150\n",
            "6/6 [==============================] - 0s 3ms/step - loss: 0.1151 - accuracy: 0.9570\n",
            "Epoch 94/150\n",
            "6/6 [==============================] - 0s 4ms/step - loss: 0.1175 - accuracy: 0.9590\n",
            "Epoch 95/150\n",
            "6/6 [==============================] - 0s 3ms/step - loss: 0.1314 - accuracy: 0.9492\n",
            "Epoch 96/150\n",
            "6/6 [==============================] - 0s 3ms/step - loss: 0.1200 - accuracy: 0.9570\n",
            "Epoch 97/150\n",
            "6/6 [==============================] - 0s 3ms/step - loss: 0.1109 - accuracy: 0.9609\n",
            "Epoch 98/150\n",
            "6/6 [==============================] - 0s 3ms/step - loss: 0.1173 - accuracy: 0.9609\n",
            "Epoch 99/150\n",
            "6/6 [==============================] - 0s 3ms/step - loss: 0.1132 - accuracy: 0.9551\n",
            "Epoch 100/150\n",
            "6/6 [==============================] - 0s 3ms/step - loss: 0.1145 - accuracy: 0.9648\n",
            "Epoch 101/150\n",
            "6/6 [==============================] - 0s 3ms/step - loss: 0.1151 - accuracy: 0.9551\n",
            "Epoch 102/150\n",
            "6/6 [==============================] - 0s 6ms/step - loss: 0.1130 - accuracy: 0.9609\n",
            "Epoch 103/150\n",
            "6/6 [==============================] - 0s 5ms/step - loss: 0.1168 - accuracy: 0.9570\n",
            "Epoch 104/150\n",
            "6/6 [==============================] - 0s 3ms/step - loss: 0.1142 - accuracy: 0.9590\n",
            "Epoch 105/150\n",
            "6/6 [==============================] - 0s 4ms/step - loss: 0.1232 - accuracy: 0.9531\n",
            "Epoch 106/150\n",
            "6/6 [==============================] - 0s 3ms/step - loss: 0.1228 - accuracy: 0.9512\n",
            "Epoch 107/150\n",
            "6/6 [==============================] - 0s 3ms/step - loss: 0.1159 - accuracy: 0.9609\n",
            "Epoch 108/150\n",
            "6/6 [==============================] - 0s 3ms/step - loss: 0.1209 - accuracy: 0.9512\n",
            "Epoch 109/150\n",
            "6/6 [==============================] - 0s 3ms/step - loss: 0.1144 - accuracy: 0.9648\n",
            "Epoch 110/150\n",
            "6/6 [==============================] - 0s 6ms/step - loss: 0.1100 - accuracy: 0.9629\n",
            "Epoch 111/150\n",
            "6/6 [==============================] - 0s 4ms/step - loss: 0.1138 - accuracy: 0.9590\n",
            "Epoch 112/150\n",
            "6/6 [==============================] - 0s 4ms/step - loss: 0.1101 - accuracy: 0.9609\n",
            "Epoch 113/150\n",
            "6/6 [==============================] - 0s 3ms/step - loss: 0.1098 - accuracy: 0.9629\n",
            "Epoch 114/150\n",
            "6/6 [==============================] - 0s 3ms/step - loss: 0.1180 - accuracy: 0.9629\n",
            "Epoch 115/150\n",
            "6/6 [==============================] - 0s 4ms/step - loss: 0.1154 - accuracy: 0.9570\n",
            "Epoch 116/150\n",
            "6/6 [==============================] - 0s 3ms/step - loss: 0.1153 - accuracy: 0.9512\n",
            "Epoch 117/150\n",
            "6/6 [==============================] - 0s 3ms/step - loss: 0.1133 - accuracy: 0.9551\n",
            "Epoch 118/150\n",
            "6/6 [==============================] - 0s 4ms/step - loss: 0.1132 - accuracy: 0.9629\n",
            "Epoch 119/150\n",
            "6/6 [==============================] - 0s 3ms/step - loss: 0.1089 - accuracy: 0.9590\n",
            "Epoch 120/150\n",
            "6/6 [==============================] - 0s 3ms/step - loss: 0.1291 - accuracy: 0.9395\n",
            "Epoch 121/150\n",
            "6/6 [==============================] - 0s 3ms/step - loss: 0.1115 - accuracy: 0.9629\n",
            "Epoch 122/150\n",
            "6/6 [==============================] - 0s 3ms/step - loss: 0.1019 - accuracy: 0.9629\n",
            "Epoch 123/150\n",
            "6/6 [==============================] - 0s 3ms/step - loss: 0.1110 - accuracy: 0.9551\n",
            "Epoch 124/150\n",
            "6/6 [==============================] - 0s 4ms/step - loss: 0.1113 - accuracy: 0.9668\n",
            "Epoch 125/150\n",
            "6/6 [==============================] - 0s 4ms/step - loss: 0.1155 - accuracy: 0.9551\n",
            "Epoch 126/150\n",
            "6/6 [==============================] - 0s 3ms/step - loss: 0.1029 - accuracy: 0.9648\n",
            "Epoch 127/150\n",
            "6/6 [==============================] - 0s 3ms/step - loss: 0.1102 - accuracy: 0.9590\n",
            "Epoch 128/150\n",
            "6/6 [==============================] - 0s 3ms/step - loss: 0.1156 - accuracy: 0.9512\n",
            "Epoch 129/150\n",
            "6/6 [==============================] - 0s 3ms/step - loss: 0.1009 - accuracy: 0.9688\n",
            "Epoch 130/150\n",
            "6/6 [==============================] - 0s 5ms/step - loss: 0.1022 - accuracy: 0.9609\n",
            "Epoch 131/150\n",
            "6/6 [==============================] - 0s 3ms/step - loss: 0.1037 - accuracy: 0.9648\n",
            "Epoch 132/150\n",
            "6/6 [==============================] - 0s 4ms/step - loss: 0.1022 - accuracy: 0.9648\n",
            "Epoch 133/150\n",
            "6/6 [==============================] - 0s 3ms/step - loss: 0.1077 - accuracy: 0.9688\n",
            "Epoch 134/150\n",
            "6/6 [==============================] - 0s 3ms/step - loss: 0.1027 - accuracy: 0.9668\n",
            "Epoch 135/150\n",
            "6/6 [==============================] - 0s 3ms/step - loss: 0.1054 - accuracy: 0.9590\n",
            "Epoch 136/150\n",
            "6/6 [==============================] - 0s 3ms/step - loss: 0.1066 - accuracy: 0.9609\n",
            "Epoch 137/150\n",
            "6/6 [==============================] - 0s 3ms/step - loss: 0.1031 - accuracy: 0.9629\n",
            "Epoch 138/150\n",
            "6/6 [==============================] - 0s 4ms/step - loss: 0.0958 - accuracy: 0.9648\n",
            "Epoch 139/150\n",
            "6/6 [==============================] - 0s 5ms/step - loss: 0.0999 - accuracy: 0.9668\n",
            "Epoch 140/150\n",
            "6/6 [==============================] - 0s 4ms/step - loss: 0.1055 - accuracy: 0.9648\n",
            "Epoch 141/150\n",
            "6/6 [==============================] - 0s 3ms/step - loss: 0.1058 - accuracy: 0.9629\n",
            "Epoch 142/150\n",
            "6/6 [==============================] - 0s 3ms/step - loss: 0.0965 - accuracy: 0.9727\n",
            "Epoch 143/150\n",
            "6/6 [==============================] - 0s 6ms/step - loss: 0.1058 - accuracy: 0.9570\n",
            "Epoch 144/150\n",
            "6/6 [==============================] - 0s 3ms/step - loss: 0.1153 - accuracy: 0.9551\n",
            "Epoch 145/150\n",
            "6/6 [==============================] - 0s 3ms/step - loss: 0.1074 - accuracy: 0.9590\n",
            "Epoch 146/150\n",
            "6/6 [==============================] - 0s 4ms/step - loss: 0.1055 - accuracy: 0.9648\n",
            "Epoch 147/150\n",
            "6/6 [==============================] - 0s 4ms/step - loss: 0.1037 - accuracy: 0.9648\n",
            "Epoch 148/150\n",
            "6/6 [==============================] - 0s 8ms/step - loss: 0.1090 - accuracy: 0.9590\n",
            "Epoch 149/150\n",
            "6/6 [==============================] - 0s 3ms/step - loss: 0.1028 - accuracy: 0.9648\n",
            "Epoch 150/150\n",
            "6/6 [==============================] - 0s 4ms/step - loss: 0.1001 - accuracy: 0.9629\n"
          ]
        },
        {
          "output_type": "execute_result",
          "data": {
            "text/plain": [
              "<keras.callbacks.History at 0x7f371213b8d0>"
            ]
          },
          "metadata": {},
          "execution_count": 11
        }
      ]
    },
    {
      "cell_type": "code",
      "source": [
        "\n",
        "y_pred = md.predict(X_test)\n",
        "y_pred = (y_pred > 0.5)\n",
        "\n",
        "from sklearn.metrics import confusion_matrix\n",
        "cm = confusion_matrix(y_test, y_pred)\n",
        "print(\"accuracy  {}%\".format(((cm[0][0] + cm[1][1])/57)*100))"
      ],
      "metadata": {
        "colab": {
          "base_uri": "https://localhost:8080/"
        },
        "id": "iUmHfWER7I7s",
        "outputId": "b09653f2-cdfb-46ea-b79b-53fb4b0c3793"
      },
      "execution_count": 12,
      "outputs": [
        {
          "output_type": "stream",
          "name": "stdout",
          "text": [
            "accuracy  94.73684210526315%\n"
          ]
        }
      ]
    },
    {
      "cell_type": "code",
      "source": [
        "precision = precision_score(y_test, y_pred, average='binary')\n",
        "recall = recall_score(y_test, y_pred, average='binary')\n",
        "score = f1_score(y_test, y_pred, average='binary')\n",
        "print('Precision : ',precision *100 ,' %')\n",
        "print('Recall : ' ,recall*100 ,' %') \n",
        "print('F1_score : ', score*100 ,' %')"
      ],
      "metadata": {
        "id": "duNXw7177LTB",
        "colab": {
          "base_uri": "https://localhost:8080/"
        },
        "outputId": "cc97c0c2-80d1-488f-ed79-a5919603b605"
      },
      "execution_count": 13,
      "outputs": [
        {
          "output_type": "stream",
          "name": "stdout",
          "text": [
            "Precision :  91.30434782608695  %\n",
            "Recall :  95.45454545454545  %\n",
            "F1_score :  93.33333333333333  %\n"
          ]
        }
      ]
    },
    {
      "cell_type": "code",
      "source": [
        "sns.heatmap(cm,annot=True)\n",
        "plt.savefig('h.png')"
      ],
      "metadata": {
        "id": "fOgFPAsa7RWs",
        "colab": {
          "base_uri": "https://localhost:8080/",
          "height": 265
        },
        "outputId": "f160538b-28f6-4420-f294-6deeb22f6d70"
      },
      "execution_count": 14,
      "outputs": [
        {
          "output_type": "display_data",
          "data": {
            "image/png": "[encoded data removed]",
            "text/plain": [
              "<Figure size 432x288 with 2 Axes>"
            ]
          },
          "metadata": {
            "needs_background": "light"
          }
        }
      ]
    }
  ]
}